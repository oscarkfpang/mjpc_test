{
 "cells": [
  {
   "cell_type": "code",
   "execution_count": 1,
   "id": "f8ae5d87-020e-45b4-8ea5-73b7d83d1ab1",
   "metadata": {},
   "outputs": [
    {
     "name": "stderr",
     "output_type": "stream",
     "text": [
      "/home/oscar/.local/lib/python3.10/site-packages/google/protobuf/runtime_version.py:112: UserWarning: Protobuf gencode version 5.27.2 is older than the runtime version 5.28.0 at mujoco_mpc/proto/agent.proto. Please avoid checked-in Protobuf gencode that can be obsolete.\n",
      "  warnings.warn(\n"
     ]
    }
   ],
   "source": [
    "import mediapy as media\n",
    "import mujoco\n",
    "import numpy as np\n",
    "import pathlib\n",
    "from mujoco_mpc import agent as agent_lib\n",
    "import predictive_sampling"
   ]
  },
  {
   "cell_type": "code",
   "execution_count": 2,
   "id": "bdb43a4f-0ee9-4fa2-a760-7c65e58fdc5a",
   "metadata": {},
   "outputs": [],
   "source": [
    "model_path = (\n",
    "    \"/home/oscar/mujoco_mpc/build/mjpc/tasks/minicrane/task.xml\"\n",
    "    ##\"/home/oscar/Downloads/brg_crane.xml\"\n",
    ")"
   ]
  },
  {
   "cell_type": "code",
   "execution_count": 3,
   "id": "2e49fc70-1bc1-4c7f-9aad-db024ee8a438",
   "metadata": {},
   "outputs": [],
   "source": [
    "model = mujoco.MjModel.from_xml_path(str(model_path))\n",
    "data = mujoco.MjData(model)"
   ]
  },
  {
   "cell_type": "code",
   "execution_count": 6,
   "id": "c4e42b46-6906-4e83-8d39-28728e89b913",
   "metadata": {},
   "outputs": [],
   "source": [
    "mujoco.mj_resetData(model, data)\n",
    "mujoco.mj_forward(model, data)"
   ]
  },
  {
   "cell_type": "code",
   "execution_count": 6,
   "id": "4b829061",
   "metadata": {},
   "outputs": [
    {
     "name": "stderr",
     "output_type": "stream",
     "text": [
      "WARNING: All log messages before absl::InitializeLog() is called are written to STDERR\n",
      "I0000 00:00:1730573701.511186   17597 ui_agent_server.cc:57] Server listening on [::]:58943\n"
     ]
    }
   ],
   "source": [
    "agent = agent_lib.Agent(\n",
    "                server_binary_path=pathlib.Path(agent_lib.__file__).parent\n",
    "                / \"mjpc\"\n",
    "                / \"ui_agent_server\",\n",
    "                task_id=\"Minicrane\", \n",
    "                model=model)"
   ]
  },
  {
   "cell_type": "code",
   "execution_count": 5,
   "id": "0c54a392",
   "metadata": {},
   "outputs": [
    {
     "name": "stderr",
     "output_type": "stream",
     "text": [
      "WARNING: All log messages before absl::InitializeLog() is called are written to STDERR\n",
      "I0000 00:00:1730581310.393954  109911 agent_server.cc:55] Server listening on [::]:52303\n"
     ]
    }
   ],
   "source": [
    "agent = agent_lib.Agent(\n",
    "                task_id=\"Minicrane\", \n",
    "                model=model)"
   ]
  },
  {
   "cell_type": "code",
   "execution_count": 8,
   "id": "33806a2b-831e-475c-9215-e7baaad496dd",
   "metadata": {},
   "outputs": [],
   "source": [
    "mujoco.mj_kinematics(model, data)"
   ]
  },
  {
   "cell_type": "code",
   "execution_count": 7,
   "id": "ec17d253-1c37-4324-8642-f64763b39de5",
   "metadata": {},
   "outputs": [
    {
     "data": {
      "text/plain": [
       "<_MjDataJointViews\n",
       "  cdof: array([[-0.00580863,  0.1098525 ,  0.        ,  0.        , -1.        ,\n",
       "         0.        ],\n",
       "       [-0.02890187,  0.        ,  0.1098525 ,  0.        , -1.        ,\n",
       "         0.        ],\n",
       "       [ 0.01208713,  0.        ,  0.2746025 ,  0.        ,  0.        ,\n",
       "         0.        ],\n",
       "       [ 1.        ,  0.        ,  0.        ,  0.        ,  0.        ,\n",
       "         0.        ],\n",
       "       [ 0.        ,  1.        ,  0.        ,  0.        ,  0.        ,\n",
       "         0.        ],\n",
       "       [ 0.        ,  0.        ,  1.        ,  1.        ,  0.        ,\n",
       "         0.        ]])\n",
       "  cdof_dot: array([[ 0.,  0.,  0.,  0.,  0., -0.],\n",
       "       [ 0.,  0.,  0.,  0.,  0., -0.],\n",
       "       [ 0.,  0.,  0.,  0.,  0.,  0.],\n",
       "       [ 0.,  0.,  0.,  0.,  0.,  0.],\n",
       "       [ 0.,  0.,  0.,  0.,  0.,  0.],\n",
       "       [ 0.,  0.,  0.,  0.,  0.,  0.]])\n",
       "  id: 3\n",
       "  name: 'payload-joint'\n",
       "  qLDiagInv: array([5.00000000e+01, 5.00000000e+01, 5.00000000e+01, 5.76923077e+04,\n",
       "       5.76923077e+04, 7.50000000e+05])\n",
       "  qLDiagSqrtInv: array([  7.07106781,   7.07106781,   7.07106781, 240.19223071,\n",
       "       240.19223071, 866.02540378])\n",
       "  qacc: array([ 0.  ,  0.  , -9.81,  0.  ,  0.  ,  0.  ])\n",
       "  qacc_smooth: array([ 0.  ,  0.  , -9.81,  0.  ,  0.  ,  0.  ])\n",
       "  qacc_warmstart: array([ 0.  ,  0.  , -9.81,  0.  ,  0.  ,  0.  ])\n",
       "  qfrc_actuator: array([0., 0., 0., 0., 0., 0.])\n",
       "  qfrc_applied: array([0., 0., 0., 0., 0., 0.])\n",
       "  qfrc_bias: array([0.    , 0.    , 0.1962, 0.    , 0.    , 0.    ])\n",
       "  qfrc_constraint: array([0., 0., 0., 0., 0., 0.])\n",
       "  qfrc_inverse: array([0., 0., 0., 0., 0., 0.])\n",
       "  qfrc_passive: array([0., 0., 0., 0., 0., 0.])\n",
       "  qfrc_smooth: array([ 0.    ,  0.    , -0.1962,  0.    ,  0.    ,  0.    ])\n",
       "  qpos: array([0.71 , 0.024, 1.112, 1.   , 0.   , 0.   , 0.   ])\n",
       "  qvel: array([0., 0., 0., 0., 0., 0.])\n",
       "  xanchor: array([0.71 , 0.024, 1.112])\n",
       "  xaxis: array([0., 0., 1.])\n",
       ">"
      ]
     },
     "execution_count": 7,
     "metadata": {},
     "output_type": "execute_result"
    }
   ],
   "source": [
    "data.joint(\"payload-joint\")"
   ]
  },
  {
   "cell_type": "code",
   "execution_count": 9,
   "id": "e693d84d",
   "metadata": {},
   "outputs": [
    {
     "data": {
      "text/plain": [
       "0.0"
      ]
     },
     "execution_count": 9,
     "metadata": {},
     "output_type": "execute_result"
    }
   ],
   "source": [
    "agent.get_state().time\n"
   ]
  },
  {
   "cell_type": "code",
   "execution_count": 10,
   "id": "140212e8-f660-4b69-8650-db1eda15f050",
   "metadata": {},
   "outputs": [
    {
     "data": {
      "text/plain": [
       "{'GoalZ': 1.0, 'GoalY': -0.7, 'ROSTime': 0.0, 'GoalX': 0.0}"
      ]
     },
     "execution_count": 10,
     "metadata": {},
     "output_type": "execute_result"
    }
   ],
   "source": [
    "agent.get_task_parameters()"
   ]
  },
  {
   "cell_type": "code",
   "execution_count": 11,
   "id": "2b579065",
   "metadata": {},
   "outputs": [
    {
     "data": {
      "text/plain": [
       "<_MjDataBodyViews\n",
       "  cacc: array([0., 0., 0., 0., 0., 0.])\n",
       "  cfrc_ext: array([0., 0., 0., 0., 0., 0.])\n",
       "  cfrc_int: array([0., 0., 0., 0., 0., 0.])\n",
       "  cinert: array([1.73333333e-05, 1.73333333e-05, 1.33333333e-06, 0.00000000e+00,\n",
       "       0.00000000e+00, 0.00000000e+00, 0.00000000e+00, 0.00000000e+00,\n",
       "       0.00000000e+00, 2.00000000e-02])\n",
       "  crb: array([1.73333333e-05, 1.73333333e-05, 1.33333333e-06, 0.00000000e+00,\n",
       "       0.00000000e+00, 0.00000000e+00, 0.00000000e+00, 0.00000000e+00,\n",
       "       0.00000000e+00, 2.00000000e-02])\n",
       "  cvel: array([0., 0., 0., 0., 0., 0.])\n",
       "  id: 6\n",
       "  name: 'payload'\n",
       "  subtree_angmom: array([0., 0., 0.])\n",
       "  subtree_com: array([0.71 , 0.024, 1.112])\n",
       "  subtree_linvel: array([0., 0., 0.])\n",
       "  xfrc_applied: array([0., 0., 0., 0., 0., 0.])\n",
       "  ximat: array([1., 0., 0., 0., 1., 0., 0., 0., 1.])\n",
       "  xipos: array([0.71 , 0.024, 1.112])\n",
       "  xmat: array([1., 0., 0., 0., 1., 0., 0., 0., 1.])\n",
       "  xpos: array([0.71 , 0.024, 1.112])\n",
       "  xquat: array([1., 0., 0., 0.])\n",
       ">"
      ]
     },
     "execution_count": 11,
     "metadata": {},
     "output_type": "execute_result"
    }
   ],
   "source": [
    "\n",
    "data.body('payload')"
   ]
  },
  {
   "cell_type": "code",
   "execution_count": 22,
   "id": "864a3c2d",
   "metadata": {},
   "outputs": [],
   "source": [
    "viewer = mujoco.viewer.launch_passive(model, data)"
   ]
  },
  {
   "cell_type": "code",
   "execution_count": null,
   "id": "2763ad35",
   "metadata": {},
   "outputs": [],
   "source": [
    "data.userdata"
   ]
  },
  {
   "cell_type": "markdown",
   "id": "555ab76b-b027-4f24-8fce-036610e5f58e",
   "metadata": {},
   "source": [
    "# try reward:\n",
    "Distance: 77.5\n",
    "control = 90.5\n",
    "Orientation: 52.5\n",
    "Angular Acceleartion: 43\n",
    "Linear Velocity: 43\n",
    "\n",
    "GoalX: 0.68 GoalY: 0.1 GoalZ: 0.4\n",
    "\n",
    "Horizon: 1.31\n",
    "Tiemstep:0.00709\n",
    "Implicit Fast\n",
    "\n",
    "Rollout: 40\n",
    "Spline: Linear\n",
    "Spline Pts: 7"
   ]
  },
  {
   "cell_type": "code",
   "execution_count": null,
   "id": "21d33166-1172-4a4a-9196-65a468b3ab62",
   "metadata": {},
   "outputs": [],
   "source": [
    "w0 = 430 # Distance cost weight\n",
    "w1 = 0   # Control Input cost weight\n",
    "w2 = 20.5 # Orientation of Payload cost weight\n",
    "w3 = 100 # Angular Acceleartion of Payload cost weight\n",
    "w4 = 50 # Linear Velocity of payload cost weight"
   ]
  },
  {
   "cell_type": "code",
   "execution_count": null,
   "id": "e5c6e2eb-32f7-4797-9d99-16a55bb89f62",
   "metadata": {},
   "outputs": [],
   "source": [
    "data.sensor('angle_acc')"
   ]
  },
  {
   "cell_type": "code",
   "execution_count": null,
   "id": "6f9552e6-fcae-416b-9803-5781b49bec0c",
   "metadata": {},
   "outputs": [],
   "source": [
    "def reward(model: mujoco.MjModel, data: mujoco.MjData) -> float:\n",
    "    # residual[0]: distance between payload and target\n",
    "    payload_pos = data.sensor('p_pos').data\n",
    "    target_pos = data.mocap_pos[0, :3]\n",
    "    r0 = -np.linalg.norm(payload_pos - target_pos)\n",
    "\n",
    "    # residual[1]: control input\n",
    "    r1 = -np.dot(data.ctrl, data.ctrl)\n",
    "\n",
    "    # residual[2]: orientation of payload\n",
    "    payload_quat = data.sensor('p_quat').data\n",
    "    normal_quat = np.asarray([0., 0., 0., 1.])\n",
    "    subquat = np.zeros(3)\n",
    "    mujoco.mju_subQuat(subquat, normal_quat, payload_quat)\n",
    "    r2 = -np.dot(subquat, subquat)\n",
    "\n",
    "    # residual[3]: angular acceleration\n",
    "    payload_acc = data.sensor('angle_acc').data\n",
    "    r3 = -np.dot(payload_acc, payload_acc)\n",
    "\n",
    "    #return 100*r0 + 10*r1 + 30 * r2 + 30*r3\n",
    "    return w0*r0 + 0*r1 + w2*r2 + w3*r3\n",
    "    "
   ]
  },
  {
   "cell_type": "code",
   "execution_count": null,
   "id": "ac318d86-e92e-410e-b59f-0a4d80da7c99",
   "metadata": {},
   "outputs": [],
   "source": [
    "horizon = 0.625\n",
    "splinestep = 0.1\n",
    "planstep = 0.01\n",
    "nimprove = 40\n",
    "nsample = 40\n",
    "noise_scale = 0.1\n",
    "interp = \"linear\"\n",
    "planner = predictive_sampling.Planner(\n",
    "    model,\n",
    "    reward,\n",
    "    horizon,\n",
    "    splinestep,\n",
    "    planstep,\n",
    "    nsample,\n",
    "    noise_scale,\n",
    "    nimprove,\n",
    "    interp=interp,\n",
    ")"
   ]
  },
  {
   "cell_type": "code",
   "execution_count": null,
   "id": "fa42f43c-dde9-48c9-8ca5-2c7f49ec85de",
   "metadata": {},
   "outputs": [],
   "source": [
    "mujoco.mj_resetData(model, data)\n",
    "steps = 2000"
   ]
  },
  {
   "cell_type": "code",
   "execution_count": null,
   "id": "6029e8ee-759d-4d2b-8082-e5da3cecb789",
   "metadata": {},
   "outputs": [],
   "source": [
    "data.mocap_pos[0, :3] = np.array([0.6, 0.1, 0.4]) # set a closer goal"
   ]
  },
  {
   "cell_type": "code",
   "execution_count": null,
   "id": "26a50051-3cc5-4c7a-9733-c7bedf711306",
   "metadata": {},
   "outputs": [],
   "source": [
    "data.mocap_pos[0, :3] = np.array([0.4, 0.4, 0.3])"
   ]
  },
  {
   "cell_type": "code",
   "execution_count": null,
   "id": "b30aa88c-714d-4c0d-8735-236ee281d226",
   "metadata": {},
   "outputs": [],
   "source": [
    "qpos = [data.qpos]\n",
    "qvel = [data.qvel]\n",
    "act = [data.act]\n",
    "ctrl = []\n",
    "rewards = []"
   ]
  },
  {
   "cell_type": "code",
   "execution_count": null,
   "id": "c8a7c497-72f1-41d7-8823-5aad578b8da7",
   "metadata": {},
   "outputs": [],
   "source": [
    "# frames\n",
    "frames = []\n",
    "FPS = 1.0 / model.opt.timestep"
   ]
  },
  {
   "cell_type": "code",
   "execution_count": null,
   "id": "3c516512-4f68-4cb9-ae05-8aaeb422153c",
   "metadata": {},
   "outputs": [],
   "source": [
    "VERBOSE = False"
   ]
  },
  {
   "cell_type": "code",
   "execution_count": null,
   "id": "45c0c1b8-4bd5-487a-9f53-36864673e63d",
   "metadata": {},
   "outputs": [],
   "source": [
    "renderer = mujoco.Renderer(model)"
   ]
  },
  {
   "cell_type": "code",
   "execution_count": null,
   "id": "d6904124-ecaf-4445-96ec-42964f5889a5",
   "metadata": {},
   "outputs": [],
   "source": [
    "from mujoco import viewer\n",
    "import time\n",
    "\n",
    "start_time = time.time()\n",
    "with viewer.launch_passive(model, data) as viewer:\n",
    "    start = time.time()\n",
    "    while viewer.is_running() and time.time() - start_time < 60:\n",
    "        #mujoco.mj_forward(model, data)\n",
    "        step_start = time.time()\n",
    "\n",
    "        ##mujoco.mj_step(model, data)\n",
    "        ## run predictive sampling\n",
    "        # improve policy\n",
    "        planner.improve_policy(\n",
    "              data.qpos, data.qvel, data.act, data.time, data.mocap_pos, data.mocap_quat\n",
    "        )\n",
    "        # get action from policy\n",
    "        data.ctrl = planner.action_from_policy(data.time)\n",
    "        # reward\n",
    "        rewards.append(reward(model, data))\n",
    "        \n",
    "        print(\" action: \", data.ctrl)\n",
    "        \n",
    "        mujoco.mj_step(model, data)\n",
    "\n",
    "        \n",
    "        viewer.sync()\n",
    "        \n",
    "        #time_until_next_step = model.opt.timestep - (time.time() - step_start)\n",
    "        #if time_until_next_step > 0:\n",
    "        #    time.sleep(time_until_next_step)\n",
    "\n"
   ]
  },
  {
   "cell_type": "code",
   "execution_count": null,
   "id": "b8d30a83-386e-4514-a5b2-b77c3bcc682d",
   "metadata": {},
   "outputs": [],
   "source": [
    "from mujoco_mpc import agent as agent_lib\n",
    "import mujoco_mpc as mjpc"
   ]
  },
  {
   "cell_type": "code",
   "execution_count": null,
   "id": "d2d23207-0e69-4dc0-b260-bf0ae577e092",
   "metadata": {},
   "outputs": [],
   "source": []
  },
  {
   "cell_type": "code",
   "execution_count": null,
   "id": "8eab14be-26e7-4dea-9001-fc1728886f9c",
   "metadata": {},
   "outputs": [],
   "source": []
  },
  {
   "cell_type": "code",
   "execution_count": null,
   "id": "95255608-ae53-4bc9-b111-54f28658a72c",
   "metadata": {},
   "outputs": [],
   "source": [
    "data.mocap_pos[0][0]"
   ]
  },
  {
   "cell_type": "code",
   "execution_count": null,
   "id": "ec365ae1-e092-4e16-8b4e-17586c41d864",
   "metadata": {},
   "outputs": [],
   "source": [
    "for _ in range(steps):\n",
    "  ## predictive sampling\n",
    "\n",
    "  # improve policy\n",
    "  planner.improve_policy(\n",
    "      data.qpos, data.qvel, data.act, data.time, data.mocap_pos, data.mocap_quat\n",
    "  )\n",
    "\n",
    "  # get action from policy\n",
    "  data.ctrl = planner.action_from_policy(data.time)\n",
    "\n",
    "  # reward\n",
    "  rewards.append(reward(model, data))\n",
    "\n",
    "  if VERBOSE:\n",
    "    print(\"time  : \", data.time)\n",
    "    print(\" qpos  : \", data.qpos)\n",
    "    print(\" qvel  : \", data.qvel)\n",
    "    print(\" act   : \", data.act)\n",
    "    print(\" action: \", data.ctrl)\n",
    "    print(\" reward: \", rewards[-1])\n",
    "  else:\n",
    "    print(\" action: \", data.ctrl)\n",
    "      \n",
    "  # step\n",
    "  mujoco.mj_step(model, data)\n",
    "\n",
    "  # history\n",
    "  qpos.append(data.qpos)\n",
    "  qvel.append(data.qvel)\n",
    "  act.append(data.act)\n",
    "  ctrl.append(ctrl)\n",
    "\n",
    "  # render and save frames\n",
    "  renderer.update_scene(data)\n",
    "  pixels = renderer.render()\n",
    "  frames.append(pixels)"
   ]
  },
  {
   "cell_type": "code",
   "execution_count": null,
   "id": "cb52b21c-ba32-4028-9536-209ce35d0a74",
   "metadata": {},
   "outputs": [],
   "source": [
    "print(\"\\nfinal qpos: \", qpos[-1])\n",
    "print(\"goal state : \", data.mocap_pos[0, 0:3])\n",
    "print(\"state error: \", np.linalg.norm(qpos[-1][0:2] - data.mocap_pos[0, 0:2]))\n",
    "# %%\n",
    "#media.show_video(frames, fps=FPS)"
   ]
  },
  {
   "cell_type": "code",
   "execution_count": null,
   "id": "d4940599-3bad-4919-9850-d9422f4c3fe2",
   "metadata": {},
   "outputs": [],
   "source": [
    "media.show_video(frames, fps=FPS)"
   ]
  },
  {
   "cell_type": "code",
   "execution_count": null,
   "id": "33d49af8-5819-4215-8768-6bffca201183",
   "metadata": {},
   "outputs": [],
   "source": [
    "renderer.close()"
   ]
  }
 ],
 "metadata": {
  "kernelspec": {
   "display_name": "Python 3",
   "language": "python",
   "name": "python3"
  },
  "language_info": {
   "codemirror_mode": {
    "name": "ipython",
    "version": 3
   },
   "file_extension": ".py",
   "mimetype": "text/x-python",
   "name": "python",
   "nbconvert_exporter": "python",
   "pygments_lexer": "ipython3",
   "version": "3.10.12"
  }
 },
 "nbformat": 4,
 "nbformat_minor": 5
}
